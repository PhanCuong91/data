{
 "cells": [
  {
   "attachments": {},
   "cell_type": "markdown",
   "metadata": {},
   "source": [
    "# Turn single spreadsheet into a SQLite Database\n",
    "## Introduction:\n",
    "An relational database is a way of structuring information in tables, rows and columns. An relational database has ability to establish links or relationships between information by joining tables, whihc makes it easy to understand and gain insights about the relationship between various data points. On another hand, a spreadsheet is a file made of rows and columns that help sort, organize and arrange data efficiently and calculate numerical data. the common between a spreadsheet and an relational database are rows and columns, and we can treat each tab of a spread as a table in relational database. with that thought in mind, this post show an example using Python to transform a spreadsheet into a SQLite (Structred Query Language - SQL) database.\n",
    "\n",
    "## Data\n",
    "The example in this post uses demo dataset, which can be found **data** folder. This dataset is stored as an Excel workbook, which has five sheets: users, addresses, books, reviews, users_books.\n",
    "\n",
    "## Import Python modules\n",
    "pandas module read dataset from spreadsheet\n",
    "sqlite3 moudle communicate to SQLite database via SQL command"
   ]
  },
  {
   "cell_type": "code",
   "execution_count": 1,
   "metadata": {},
   "outputs": [],
   "source": [
    "import pandas as pd\n",
    "import sqlite3\n",
    "# create a sqlite database with name test_sqlite.db\n",
    "db_name_sqlite='test_sqlite.db'\n",
    "db_path = db_name_sqlite\n",
    "# path of spreadsheet file\n",
    "excel_file = 'data/testData.xlsx'\n",
    "# read spreadsheet data and put to dataframe\n",
    "users = pd.read_excel(excel_file, sheet_name='users', header=0)\n",
    "addresses = pd.read_excel(excel_file, sheet_name='addresses', header=0)\n",
    "reviews = pd.read_excel(excel_file, sheet_name='reviews', header=0)\n",
    "books = pd.read_excel(excel_file, sheet_name='books', header=0)\n",
    "users_books = pd.read_excel(excel_file, sheet_name='users_books', header=0)"
   ]
  },
  {
   "attachments": {},
   "cell_type": "markdown",
   "metadata": {},
   "source": [
    "The first argument in **read_excel** is the name of the file we want to work with. We can also include the path where the file is located if needed. For example, when I ran this code, my data was in my working directory. The second argument, **sheet_name=**, tells Python which spreadsheet in the workbook we want to work with. The last argument, **header=0**, indicates that the first row in the spreadsheet has the column names. Python counts from zero, so we use 0 to refer to the first row. By specifying the header row, Python will use the values in the first row of each spreadsheet as the column names for each data frame.\n",
    "\n",
    "Let’s check the first few rows of each data frame to make sure everything is correct."
   ]
  },
  {
   "cell_type": "code",
   "execution_count": 2,
   "metadata": {},
   "outputs": [
    {
     "data": {
      "text/html": [
       "<div>\n",
       "<style scoped>\n",
       "    .dataframe tbody tr th:only-of-type {\n",
       "        vertical-align: middle;\n",
       "    }\n",
       "\n",
       "    .dataframe tbody tr th {\n",
       "        vertical-align: top;\n",
       "    }\n",
       "\n",
       "    .dataframe thead th {\n",
       "        text-align: right;\n",
       "    }\n",
       "</style>\n",
       "<table border=\"1\" class=\"dataframe\">\n",
       "  <thead>\n",
       "    <tr style=\"text-align: right;\">\n",
       "      <th></th>\n",
       "      <th>enabled</th>\n",
       "      <th>username</th>\n",
       "      <th>user_id</th>\n",
       "    </tr>\n",
       "  </thead>\n",
       "  <tbody>\n",
       "    <tr>\n",
       "      <th>0</th>\n",
       "      <td>1</td>\n",
       "      <td>John Smith</td>\n",
       "      <td>1</td>\n",
       "    </tr>\n",
       "    <tr>\n",
       "      <th>1</th>\n",
       "      <td>1</td>\n",
       "      <td>Jane Smiley</td>\n",
       "      <td>2</td>\n",
       "    </tr>\n",
       "  </tbody>\n",
       "</table>\n",
       "</div>"
      ],
      "text/plain": [
       "   enabled     username  user_id\n",
       "0        1   John Smith        1\n",
       "1        1  Jane Smiley        2"
      ]
     },
     "execution_count": 2,
     "metadata": {},
     "output_type": "execute_result"
    }
   ],
   "source": [
    "users.head()"
   ]
  },
  {
   "attachments": {},
   "cell_type": "markdown",
   "metadata": {},
   "source": [
    "## Creating a SQLite Database\n",
    "SQLite is one of the many relational database products we can use. It is a SQL database engine that lets us create databases as files on our personal computer. We can create a new SQLite database connection object and store it in a variable. Below, I check existence of  \"test_sqlite.db\". If not, then create database with sqlite3.connect(**database relative path**)\n",
    "\n",
    "The next thing we need to do is make the tables that will go in the database, but we should note that this step will only make empty tables. We will fill our tables with the data from the four data frames we made before later. Before we go on, though, let’s look at the SQL code we will use to make the table_addresses to understand how the table making process works."
   ]
  },
  {
   "cell_type": "code",
   "execution_count": 3,
   "metadata": {},
   "outputs": [],
   "source": [
    "table_addresses = \"\"\"\n",
    "    CREATE TABLE addresses (\n",
    "    user_id INTEGER, \n",
    "    street TEXT NOT NULL, \n",
    "    city TEXT NOT NULL,\n",
    "    state TEXT NOT NULL,\n",
    "    PRIMARY KEY (user_id),\n",
    "    FOREIGN KEY(user_id) REFERENCES users(user_id)\n",
    "    )\"\"\""
   ]
  },
  {
   "attachments": {},
   "cell_type": "markdown",
   "metadata": {},
   "source": [
    "table_addresses is a variable that contains a command to create a table named addresses. Lines #3-6 create four new columns in addresses: *user_id, street, city and state*. The data type of each column is specified to the right of the respective column name in data frame. More details on SQLite datatypes can be found [here](https://www.sqlite.org/index.html). Note that the order of the columns matches the order of the columns from the associated data frame."
   ]
  },
  {
   "cell_type": "code",
   "execution_count": 4,
   "metadata": {},
   "outputs": [
    {
     "data": {
      "text/plain": [
       "Index(['user_id', 'street', 'city', 'state'], dtype='object')"
      ]
     },
     "execution_count": 4,
     "metadata": {},
     "output_type": "execute_result"
    }
   ],
   "source": [
    "addresses.columns"
   ]
  },
  {
   "attachments": {},
   "cell_type": "markdown",
   "metadata": {},
   "source": [
    "For example, suppose the order of the columns of an **adresses** SQL table are *user_id, city, street and state*. If we write the values of the *city* column from the data frame to the **addresses** table in SQL, they would replace the values of the *street* column.\n",
    "Line #7 establishes the table’s primary key, which is a column that contains values that uniquely identify each row. In the **addresses** table, user_id satisfies the requirements for a primary key because no two rows have the same *user_id* value.\n",
    "Line #8 in the previous set of code establishes the foreign key for **addressed**. A foreign key is a column in one table that is the primary key in another table. For instance, notice that different rows can share the same *user_id* value in the **addresses** table, which disqualifies *user_id* from being the primary key in this table. However, in the **users** table each row does contain a unique *user_id* value. As such, *user_id* can serve as the primary key for **users** table.\n",
    "Let’s return to the actual code in line #8 in the previous CREATE TABLE command. The first part of this code, FOREIGN KEY(user_id), establishes that the *user_id* column in **addresses** is a foreign key. The second part, REFERENCE users(user_id) then specifies the table and primary key to which *user_id* refers. Repeat the command for other tables."
   ]
  },
  {
   "cell_type": "code",
   "execution_count": 5,
   "metadata": {},
   "outputs": [],
   "source": [
    "table_users = \"\"\"\n",
    "    CREATE TABLE users (\n",
    "    enabled boolean DEFAULT TRUE, \n",
    "    username TEXT NOT NULL, \n",
    "    user_id INTEGER, \n",
    "    PRIMARY KEY (user_id)\n",
    "    )\"\"\"\n",
    "table_reviews = \"\"\"\n",
    "    CREATE TABLE reviews (\n",
    "    user_id INTEGER,\n",
    "    book_id INTEGER,\n",
    "    id INTEGER,\n",
    "    review_content TEXT,\n",
    "    published_date DATE,\n",
    "    PRIMARY KEY (id),\n",
    "    FOREIGN KEY(user_id) REFERENCES users(user_id),\n",
    "    FOREIGN KEY(book_id) REFERENCES books(book_id)\n",
    "    )\"\"\"\n",
    "table_books=\"\"\"\n",
    "    CREATE TABLE books (\n",
    "    author TEXT NOT NULL,\n",
    "    title TEXT NOT NULL,\n",
    "    book_id INTEGER,\n",
    "    isbn INTEGER,\n",
    "    published_date DATE,\n",
    "    PRIMARY KEY (book_id)\n",
    "    )\"\"\"\n",
    "table_users_books = \"\"\"\n",
    "    CREATE TABLE users_books (\n",
    "    book_id INTEGER,\n",
    "    return_date DATE,\n",
    "    user_id INTEGER,\n",
    "    isbn INTEGER,\n",
    "    checkout_date DATE,\n",
    "    FOREIGN KEY(user_id) REFERENCES users(user_id),\n",
    "    FOREIGN KEY(book_id) REFERENCES books(book_id)\n",
    "    )\"\"\""
   ]
  },
  {
   "attachments": {},
   "cell_type": "markdown",
   "metadata": {},
   "source": [
    "## Finishing the Database\n",
    "First step, creating database tables with below lines of code. Line #1 making a connection to existing data base, then executing commands one by one to create tables. "
   ]
  },
  {
   "cell_type": "code",
   "execution_count": 6,
   "metadata": {},
   "outputs": [],
   "source": [
    "with sqlite3.connect(db_path) as con:\n",
    "    # delete the table if it exist\n",
    "    con.execute( \"DROP TABLE IF EXISTS users;\")\n",
    "    con.execute( \"DROP TABLE IF EXISTS addresses;\")\n",
    "    con.execute( \"DROP TABLE IF EXISTS reviews;\")\n",
    "    con.execute( \"DROP TABLE IF EXISTS books;\")\n",
    "    con.execute( \"DROP TABLE IF EXISTS users_books;\")\n",
    "    # execute these commands to create database tables\n",
    "    con.execute(table_users)\n",
    "    con.execute(table_books)\n",
    "    con.execute(table_reviews)\n",
    "    con.execute(table_addresses)\n",
    "    con.execute(table_users_books)"
   ]
  },
  {
   "attachments": {},
   "cell_type": "markdown",
   "metadata": {},
   "source": [
    "Below diagram show relationship of tables in the database with PRIMARY key and FORIEGN key\n",
    "![Entity Relationship Diagram](images/db_relationship.png)"
   ]
  },
  {
   "attachments": {},
   "cell_type": "markdown",
   "metadata": {},
   "source": [
    "Note: This image was captured from [DBVisualizer](https://www.dbvis.com/). Read this [link](https://confluence.dbvis.com/display/UG232/Viewing+Entity+Relationships ) to how  to view relationship of database."
   ]
  },
  {
   "attachments": {},
   "cell_type": "markdown",
   "metadata": {},
   "source": [
    "We have already created four data frames with the relevant data for the database. The next step is to insert the data into the corresponding tables in the database. This can be done easily by using pandas *to_sql* function on each data frame (you can find more details on to_sql [here](https://pandas.pydata.org/pandas-docs/stable/reference/api/pandas.DataFrame.to_sql.html)). The following code shows how to use to_sql to transfer the data from each data frame to the right table in the database."
   ]
  },
  {
   "cell_type": "code",
   "execution_count": 7,
   "metadata": {},
   "outputs": [],
   "source": [
    "with sqlite3.connect(db_path) as con:\n",
    "    users.to_sql('users', con=con, if_exists='append',index=False)\n",
    "    addresses.to_sql('addresses', con=con, if_exists='append',index=False)\n",
    "    reviews.to_sql('reviews', con=con, if_exists='append',index=False)\n",
    "    books.to_sql('books', con=con, if_exists='append',index=False)\n",
    "    users_books.to_sql('users_books', con=con, if_exists='append',index=False)"
   ]
  },
  {
   "attachments": {},
   "cell_type": "markdown",
   "metadata": {},
   "source": [
    "We start by creating a connection to the database at line #1. Then, for each line from #2 to #6, we specify the name of the database table where we want to write the data from the data frame as the first parameter, and the database connection as the second parameter. We also use *if_exists=‘append’* to tell to_sql that we want to add the data from the data frame to the existing table, if_exists is not 'append' all relationship of these tables overwite without relationships. Finally, we use *index=False* to tell to_sql not to include the data frame index as an extra column in the table."
   ]
  },
  {
   "attachments": {},
   "cell_type": "markdown",
   "metadata": {},
   "source": [
    "# Conclusion:\n",
    "Now we have SQLite database that is ready to go. You can run some commands to querry on the database. For example, using below lines of code to get data of users table."
   ]
  },
  {
   "cell_type": "code",
   "execution_count": 8,
   "metadata": {},
   "outputs": [
    {
     "name": "stdout",
     "output_type": "stream",
     "text": [
      "[(1, 'John Smith', 1), (1, 'Jane Smiley', 2)]\n"
     ]
    }
   ],
   "source": [
    "with sqlite3.connect(db_path) as con:\n",
    "    # get data of users table from database\n",
    "    print(con.execute( \"SELECT * FROM users\").fetchall())"
   ]
  }
 ],
 "metadata": {
  "kernelspec": {
   "display_name": "Python 3",
   "language": "python",
   "name": "python3"
  },
  "language_info": {
   "codemirror_mode": {
    "name": "ipython",
    "version": 3
   },
   "file_extension": ".py",
   "mimetype": "text/x-python",
   "name": "python",
   "nbconvert_exporter": "python",
   "pygments_lexer": "ipython3",
   "version": "3.10.1"
  },
  "orig_nbformat": 4
 },
 "nbformat": 4,
 "nbformat_minor": 2
}
